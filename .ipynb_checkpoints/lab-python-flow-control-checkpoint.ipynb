{
 "cells": [
  {
   "cell_type": "markdown",
   "id": "d3bfc191-8885-42ee-b0a0-bbab867c6f9f",
   "metadata": {
    "tags": []
   },
   "source": [
    "# Lab | Flow Control"
   ]
  },
  {
   "cell_type": "markdown",
   "id": "3851fcd1-cf98-4653-9c89-e003b7ec9400",
   "metadata": {},
   "source": [
    "## Exercise: Managing Customer Orders Optimized\n",
    "\n",
    "In the last lab, you were starting an online store that sells various products. To ensure smooth operations, you developed a program that manages customer orders and inventory.\n",
    "\n",
    "You did so without using flow control. Let's go a step further and improve this code.\n",
    "\n",
    "Follow the steps below to complete the exercise:\n",
    "\n",
    "1. Look at your code from the lab data structures, and improve repeated code with loops.\n",
    "\n",
    "2. Instead of asking the user to input the name of three products that a customer wants to order, do the following:\n",
    "    \n",
    "    a. Prompt the user to enter the name of a product that a customer wants to order.\n",
    "    \n",
    "    b. Add the product name to the \"customer_orders\" set.\n",
    "    \n",
    "    c. Ask the user if they want to add another product (yes/no).\n",
    "    \n",
    "    d. Continue the loop until the user does not want to add another product.\n",
    "\n",
    "3. Instead of updating the inventory by subtracting 1 from the quantity of each product, only do it for  the products that were ordered (those in \"customer_orders\")."
   ]
  },
  {
   "cell_type": "code",
   "execution_count": 2,
   "id": "db312544",
   "metadata": {},
   "outputs": [],
   "source": [
    "products = [\"tshirt\", \"mug\", \"hat\", \"book\", \"keychain\"]"
   ]
  },
  {
   "cell_type": "code",
   "execution_count": 3,
   "id": "11bfe236",
   "metadata": {},
   "outputs": [],
   "source": [
    "inventory = {}"
   ]
  },
  {
   "cell_type": "code",
   "execution_count": 4,
   "id": "04c5b842",
   "metadata": {},
   "outputs": [
    {
     "name": "stdout",
     "output_type": "stream",
     "text": [
      "Enter the quantity of tshirt that is in stock:124\n",
      "Enter the quantity of mug that is in stock:124\n",
      "Enter the quantity of hat that is in stock:51\n",
      "Enter the quantity of book that is in stock:432\n",
      "Enter the quantity of keychain that is in stock:3\n",
      "Available inventory: {'tshirt': 124, 'mug': 124, 'hat': 51, 'book': 432, 'keychain': 3}\n"
     ]
    }
   ],
   "source": [
    "for product in products:\n",
    "    available = int(input(f\"Enter the quantity of {product} that is in stock:\"))\n",
    "    inventory[product] = available \n",
    "    \n",
    "print(\"Available inventory:\", inventory)"
   ]
  },
  {
   "cell_type": "code",
   "execution_count": 5,
   "id": "b46c7efb",
   "metadata": {},
   "outputs": [],
   "source": [
    "customer_orders = set()"
   ]
  },
  {
   "cell_type": "code",
   "execution_count": 6,
   "id": "16bacfd4",
   "metadata": {},
   "outputs": [
    {
     "name": "stdout",
     "output_type": "stream",
     "text": [
      "Enter the product you want to order:mug\n",
      "Would you like to add another product to your order, yes or no?yes\n",
      "Enter the product you want to order:hat\n",
      "Would you like to add another product to your order, yes or no?yes\n",
      "Enter the product you want to order:keychain\n",
      "Would you like to add another product to your order, yes or no?no\n"
     ]
    }
   ],
   "source": [
    "while True:\n",
    "    desired_product = input(\"Enter the product you want to order:\")\n",
    "    customer_orders.add(desired_product)\n",
    "    \n",
    "    another_one = input(\"Would you like to add another product to your order, yes or no?\")\n",
    "    if another_one.lower() != \"yes\":\n",
    "        break\n",
    "        \n",
    "#asked for hints from AI Chatbot, helped with break function"
   ]
  },
  {
   "cell_type": "code",
   "execution_count": 7,
   "id": "b6573d98",
   "metadata": {},
   "outputs": [
    {
     "name": "stdout",
     "output_type": "stream",
     "text": [
      "You have ordered: {'hat', 'keychain', 'mug'}. Thank you for your order!\n"
     ]
    }
   ],
   "source": [
    "print(f\"You have ordered: {customer_orders}. Thank you for your order!\")"
   ]
  },
  {
   "cell_type": "code",
   "execution_count": 8,
   "id": "91864707",
   "metadata": {},
   "outputs": [
    {
     "name": "stdout",
     "output_type": "stream",
     "text": [
      "Updated inventory: {'tshirt': 124, 'mug': 123, 'hat': 50, 'book': 432, 'keychain': 2}\n"
     ]
    }
   ],
   "source": [
    "for chosen_product in customer_orders: \n",
    "    if chosen_product in inventory: \n",
    "        inventory[chosen_product]-=1\n",
    "\n",
    "print(\"Updated inventory:\", inventory)"
   ]
  },
  {
   "cell_type": "code",
   "execution_count": null,
   "id": "9f703898",
   "metadata": {},
   "outputs": [],
   "source": []
  }
 ],
 "metadata": {
  "kernelspec": {
   "display_name": "Python 3 (ipykernel)",
   "language": "python",
   "name": "python3"
  },
  "language_info": {
   "codemirror_mode": {
    "name": "ipython",
    "version": 3
   },
   "file_extension": ".py",
   "mimetype": "text/x-python",
   "name": "python",
   "nbconvert_exporter": "python",
   "pygments_lexer": "ipython3",
   "version": "3.11.7"
  }
 },
 "nbformat": 4,
 "nbformat_minor": 5
}
